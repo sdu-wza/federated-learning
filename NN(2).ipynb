{
 "cells": [
  {
   "cell_type": "code",
   "execution_count": 17,
   "id": "e8700e36-fb5e-4267-bbaf-2d5813742569",
   "metadata": {
    "execution": {
     "parties": "[\"alice\"]",
     "shell.execute_reply.end": "2024-08-30T06:14:49.644670Z",
     "shell.execute_reply.started": "2024-08-30T06:14:44.526453Z",
     "to_execute": "2024-08-30T06:14:44.521Z"
    },
    "libroFormatter": "formatter-string"
   },
   "outputs": [
    {
     "name": "stdout",
     "output_type": "stream",
     "text": [
      "The version of SecretFlow: 1.5.0b0\n"
     ]
    },
    {
     "name": "stderr",
     "output_type": "stream",
     "text": [
      "/usr/local/lib/python3.10/subprocess.py:1796: RuntimeWarning: os.fork() was called. os.fork() is incompatible with multithreaded code, and JAX is multithreaded, so this will likely lead to a deadlock.\n",
      "  self.pid = _posixsubprocess.fork_exec(\n",
      "2024-08-30 06:14:48,301\tWARNING services.py:1996 -- WARNING: The object store is using /tmp instead of /dev/shm because /dev/shm has only 67108864 bytes available. This will harm performance! You may be able to free up space by deleting files in /dev/shm. If you are inside a Docker container, you can increase /dev/shm size by passing '--shm-size=1.56gb' to 'docker run' (or add it to the run_options list in a Ray cluster config). Make sure to set this to more than 30% of available RAM.\n",
      "2024-08-30 06:14:48,471\tINFO worker.py:1724 -- Started a local Ray instance.\n"
     ]
    }
   ],
   "source": [
    "import secretflow as sf\n",
    "from secretflow.security.aggregation import SPUAggregator, SecureAggregator\n",
    "from secretflow.ml.nn import FLModel\n",
    "# Check the version of your SecretFlow\n",
    "print(\"The version of SecretFlow: {}\".format(sf.__version__))\n",
    "\n",
    "# In case you have a running secretflow runtime already.\n",
    "sf.shutdown()\n",
    "\n",
    "sf.init([\"alice\", \"bob\", \"charlie\"], address=\"local\")\n",
    "alice, bob, charlie = sf.PYU(\"alice\"), sf.PYU(\"bob\"), sf.PYU(\"charlie\")\n",
    "spu = sf.SPU(sf.utils.testing.cluster_def(['alice', 'bob']))\n"
   ]
  },
  {
   "cell_type": "code",
   "execution_count": 18,
   "id": "b7b84680-6616-4d54-8582-bf753b71c01d",
   "metadata": {
    "execution": {
     "parties": "[\"alice\"]",
     "shell.execute_reply.end": "2024-08-30T06:14:51.507617Z",
     "shell.execute_reply.started": "2024-08-30T06:14:49.651865Z",
     "to_execute": "2024-08-30T06:14:44.521Z"
    },
    "libroFormatter": "formatter-string"
   },
   "outputs": [],
   "source": [
    "from secretflow.utils.simulation.datasets import dataset\n",
    "import pandas as pd\n",
    "df = pd.read_csv(dataset('creditcard'), sep=',')"
   ]
  },
  {
   "cell_type": "code",
   "execution_count": 19,
   "id": "690bcd0d-cf05-41b5-8555-a921475839df",
   "metadata": {
    "execution": {
     "parties": "[\"alice\"]",
     "shell.execute_reply.end": "2024-08-30T06:14:51.529620Z",
     "shell.execute_reply.started": "2024-08-30T06:14:51.510102Z",
     "to_execute": "2024-08-30T06:14:44.522Z"
    },
    "libroFormatter": "formatter-string"
   },
   "outputs": [
    {
     "data": {
      "text/html": [
       "<div>\n",
       "<style scoped>\n",
       "    .dataframe tbody tr th:only-of-type {\n",
       "        vertical-align: middle;\n",
       "    }\n",
       "\n",
       "    .dataframe tbody tr th {\n",
       "        vertical-align: top;\n",
       "    }\n",
       "\n",
       "    .dataframe thead th {\n",
       "        text-align: right;\n",
       "    }\n",
       "</style>\n",
       "<table border=\"1\" class=\"dataframe\">\n",
       "  <thead>\n",
       "    <tr style=\"text-align: right;\">\n",
       "      <th></th>\n",
       "      <th>Time</th>\n",
       "      <th>V1</th>\n",
       "      <th>V2</th>\n",
       "      <th>V3</th>\n",
       "      <th>V4</th>\n",
       "      <th>V5</th>\n",
       "      <th>V6</th>\n",
       "      <th>V7</th>\n",
       "      <th>V8</th>\n",
       "      <th>V9</th>\n",
       "      <th>...</th>\n",
       "      <th>V21</th>\n",
       "      <th>V22</th>\n",
       "      <th>V23</th>\n",
       "      <th>V24</th>\n",
       "      <th>V25</th>\n",
       "      <th>V26</th>\n",
       "      <th>V27</th>\n",
       "      <th>V28</th>\n",
       "      <th>Amount</th>\n",
       "      <th>Class</th>\n",
       "    </tr>\n",
       "  </thead>\n",
       "  <tbody>\n",
       "    <tr>\n",
       "      <th>0</th>\n",
       "      <td>0.0</td>\n",
       "      <td>-1.359807</td>\n",
       "      <td>-0.072781</td>\n",
       "      <td>2.536347</td>\n",
       "      <td>1.378155</td>\n",
       "      <td>-0.338321</td>\n",
       "      <td>0.462388</td>\n",
       "      <td>0.239599</td>\n",
       "      <td>0.098698</td>\n",
       "      <td>0.363787</td>\n",
       "      <td>...</td>\n",
       "      <td>-0.018307</td>\n",
       "      <td>0.277838</td>\n",
       "      <td>-0.110474</td>\n",
       "      <td>0.066928</td>\n",
       "      <td>0.128539</td>\n",
       "      <td>-0.189115</td>\n",
       "      <td>0.133558</td>\n",
       "      <td>-0.021053</td>\n",
       "      <td>149.62</td>\n",
       "      <td>0</td>\n",
       "    </tr>\n",
       "    <tr>\n",
       "      <th>1</th>\n",
       "      <td>0.0</td>\n",
       "      <td>1.191857</td>\n",
       "      <td>0.266151</td>\n",
       "      <td>0.166480</td>\n",
       "      <td>0.448154</td>\n",
       "      <td>0.060018</td>\n",
       "      <td>-0.082361</td>\n",
       "      <td>-0.078803</td>\n",
       "      <td>0.085102</td>\n",
       "      <td>-0.255425</td>\n",
       "      <td>...</td>\n",
       "      <td>-0.225775</td>\n",
       "      <td>-0.638672</td>\n",
       "      <td>0.101288</td>\n",
       "      <td>-0.339846</td>\n",
       "      <td>0.167170</td>\n",
       "      <td>0.125895</td>\n",
       "      <td>-0.008983</td>\n",
       "      <td>0.014724</td>\n",
       "      <td>2.69</td>\n",
       "      <td>0</td>\n",
       "    </tr>\n",
       "    <tr>\n",
       "      <th>2</th>\n",
       "      <td>1.0</td>\n",
       "      <td>-1.358354</td>\n",
       "      <td>-1.340163</td>\n",
       "      <td>1.773209</td>\n",
       "      <td>0.379780</td>\n",
       "      <td>-0.503198</td>\n",
       "      <td>1.800499</td>\n",
       "      <td>0.791461</td>\n",
       "      <td>0.247676</td>\n",
       "      <td>-1.514654</td>\n",
       "      <td>...</td>\n",
       "      <td>0.247998</td>\n",
       "      <td>0.771679</td>\n",
       "      <td>0.909412</td>\n",
       "      <td>-0.689281</td>\n",
       "      <td>-0.327642</td>\n",
       "      <td>-0.139097</td>\n",
       "      <td>-0.055353</td>\n",
       "      <td>-0.059752</td>\n",
       "      <td>378.66</td>\n",
       "      <td>0</td>\n",
       "    </tr>\n",
       "    <tr>\n",
       "      <th>3</th>\n",
       "      <td>1.0</td>\n",
       "      <td>-0.966272</td>\n",
       "      <td>-0.185226</td>\n",
       "      <td>1.792993</td>\n",
       "      <td>-0.863291</td>\n",
       "      <td>-0.010309</td>\n",
       "      <td>1.247203</td>\n",
       "      <td>0.237609</td>\n",
       "      <td>0.377436</td>\n",
       "      <td>-1.387024</td>\n",
       "      <td>...</td>\n",
       "      <td>-0.108300</td>\n",
       "      <td>0.005274</td>\n",
       "      <td>-0.190321</td>\n",
       "      <td>-1.175575</td>\n",
       "      <td>0.647376</td>\n",
       "      <td>-0.221929</td>\n",
       "      <td>0.062723</td>\n",
       "      <td>0.061458</td>\n",
       "      <td>123.50</td>\n",
       "      <td>0</td>\n",
       "    </tr>\n",
       "    <tr>\n",
       "      <th>4</th>\n",
       "      <td>2.0</td>\n",
       "      <td>-1.158233</td>\n",
       "      <td>0.877737</td>\n",
       "      <td>1.548718</td>\n",
       "      <td>0.403034</td>\n",
       "      <td>-0.407193</td>\n",
       "      <td>0.095921</td>\n",
       "      <td>0.592941</td>\n",
       "      <td>-0.270533</td>\n",
       "      <td>0.817739</td>\n",
       "      <td>...</td>\n",
       "      <td>-0.009431</td>\n",
       "      <td>0.798278</td>\n",
       "      <td>-0.137458</td>\n",
       "      <td>0.141267</td>\n",
       "      <td>-0.206010</td>\n",
       "      <td>0.502292</td>\n",
       "      <td>0.219422</td>\n",
       "      <td>0.215153</td>\n",
       "      <td>69.99</td>\n",
       "      <td>0</td>\n",
       "    </tr>\n",
       "  </tbody>\n",
       "</table>\n",
       "<p>5 rows × 31 columns</p>\n",
       "</div>"
      ],
      "text/plain": [
       "   Time        V1        V2        V3        V4        V5        V6        V7  \\\n",
       "0   0.0 -1.359807 -0.072781  2.536347  1.378155 -0.338321  0.462388  0.239599   \n",
       "1   0.0  1.191857  0.266151  0.166480  0.448154  0.060018 -0.082361 -0.078803   \n",
       "2   1.0 -1.358354 -1.340163  1.773209  0.379780 -0.503198  1.800499  0.791461   \n",
       "3   1.0 -0.966272 -0.185226  1.792993 -0.863291 -0.010309  1.247203  0.237609   \n",
       "4   2.0 -1.158233  0.877737  1.548718  0.403034 -0.407193  0.095921  0.592941   \n",
       "\n",
       "         V8        V9  ...       V21       V22       V23       V24       V25  \\\n",
       "0  0.098698  0.363787  ... -0.018307  0.277838 -0.110474  0.066928  0.128539   \n",
       "1  0.085102 -0.255425  ... -0.225775 -0.638672  0.101288 -0.339846  0.167170   \n",
       "2  0.247676 -1.514654  ...  0.247998  0.771679  0.909412 -0.689281 -0.327642   \n",
       "3  0.377436 -1.387024  ... -0.108300  0.005274 -0.190321 -1.175575  0.647376   \n",
       "4 -0.270533  0.817739  ... -0.009431  0.798278 -0.137458  0.141267 -0.206010   \n",
       "\n",
       "        V26       V27       V28  Amount  Class  \n",
       "0 -0.189115  0.133558 -0.021053  149.62      0  \n",
       "1  0.125895 -0.008983  0.014724    2.69      0  \n",
       "2 -0.139097 -0.055353 -0.059752  378.66      0  \n",
       "3 -0.221929  0.062723  0.061458  123.50      0  \n",
       "4  0.502292  0.219422  0.215153   69.99      0  \n",
       "\n",
       "[5 rows x 31 columns]"
      ]
     },
     "execution_count": 19,
     "metadata": {},
     "output_type": "execute_result"
    }
   ],
   "source": [
    "import pandas as pd\n",
    "import numpy as np\n",
    "import matplotlib.pyplot as plt\n",
    "seed=42\n",
    "\n",
    "\n",
    "plt.rc(\"figure\", autolayout=True)\n",
    "plt.rc(\"axes\", labelweight=\"bold\", labelsize=\"large\", titleweight=\"bold\", titlesize=14, titlepad=10)\n",
    "df.head()"
   ]
  },
  {
   "cell_type": "code",
   "execution_count": 20,
   "id": "3458da31-2cc2-4c78-b195-4c6e4b0dff24",
   "metadata": {
    "execution": {
     "parties": "[\"alice\"]",
     "shell.execute_reply.end": "2024-08-30T06:14:52.919311Z",
     "shell.execute_reply.started": "2024-08-30T06:14:51.534165Z",
     "to_execute": "2024-08-30T06:14:44.522Z"
    },
    "libroFormatter": "formatter-string"
   },
   "outputs": [
    {
     "data": {
      "text/plain": [
       "0    8063\n",
       "Name: Class, dtype: int64"
      ]
     },
     "execution_count": 20,
     "metadata": {},
     "output_type": "execute_result"
    }
   ],
   "source": [
    "df = df[~df.duplicated()]\n",
    "df.drop('Time', axis=1, inplace=True)\n",
    "df[df.duplicated()]['Class'].value_counts()"
   ]
  },
  {
   "cell_type": "code",
   "execution_count": 21,
   "id": "223c80e3-51f7-4913-8230-40d6b05f0ef4",
   "metadata": {
    "execution": {
     "parties": "[\"alice\"]",
     "shell.execute_reply.end": "2024-08-30T06:14:53.475477Z",
     "shell.execute_reply.started": "2024-08-30T06:14:52.922906Z",
     "to_execute": "2024-08-30T06:14:44.523Z"
    },
    "libroFormatter": "formatter-string"
   },
   "outputs": [
    {
     "data": {
      "text/plain": [
       "(275663, 30)"
      ]
     },
     "execution_count": 21,
     "metadata": {},
     "output_type": "execute_result"
    }
   ],
   "source": [
    "df = df[~df.duplicated()]\n",
    "df.shape"
   ]
  },
  {
   "cell_type": "code",
   "execution_count": 22,
   "id": "e2da4040-eecd-4e46-b072-eddf8b03eec1",
   "metadata": {
    "execution": {
     "parties": "[\"alice\"]",
     "shell.execute_reply.end": "2024-08-30T06:14:54.962632Z",
     "shell.execute_reply.started": "2024-08-30T06:14:53.479199Z",
     "to_execute": "2024-08-30T06:14:44.523Z"
    },
    "libroFormatter": "formatter-string"
   },
   "outputs": [],
   "source": [
    "\n",
    "from scipy.special import boxcox1p\n",
    "from scipy.stats import boxcox_normmax\n",
    "\n",
    "df[\"Amount_bc\"] = boxcox1p(df[\"Amount\"], boxcox_normmax(df[\"Amount\"] + 1))\n",
    "df[\"Amount_log\"] = np.log(1 + df[\"Amount\"])\n",
    "df.drop(['Amount','Amount_log'], axis=1, inplace=True)"
   ]
  },
  {
   "cell_type": "code",
   "execution_count": 23,
   "id": "9f0e49c7-23d8-4c50-8082-0afb94304c30",
   "metadata": {
    "execution": {
     "parties": "[\"alice\"]",
     "shell.execute_reply.end": "2024-08-30T06:14:54.975358Z",
     "shell.execute_reply.started": "2024-08-30T06:14:54.966194Z",
     "to_execute": "2024-08-30T06:14:44.524Z"
    },
    "libroFormatter": "formatter-string"
   },
   "outputs": [
    {
     "name": "stdout",
     "output_type": "stream",
     "text": [
      "275190\n",
      "473\n"
     ]
    }
   ],
   "source": [
    "count_of_ones = (df['Class'] == 0).sum()  \n",
    "  \n",
    "print(count_of_ones)\n",
    "count_of_ones = (df['Class'] == 1).sum()  \n",
    "  \n",
    "print(count_of_ones)"
   ]
  },
  {
   "cell_type": "code",
   "execution_count": 24,
   "id": "86025c1a-66b1-4f5e-92b8-a751dad0b7de",
   "metadata": {
    "execution": {
     "parties": "[\"alice\"]",
     "shell.execute_reply.end": "2024-08-30T06:14:56.093855Z",
     "shell.execute_reply.started": "2024-08-30T06:14:54.979488Z",
     "to_execute": "2024-08-30T06:14:44.524Z"
    },
    "libroFormatter": "formatter-string"
   },
   "outputs": [],
   "source": [
    "from sklearn.decomposition import PCA\n",
    "from sklearn.preprocessing import StandardScaler\n",
    "df['Class'] = df['Class'].astype(float)\n",
    "X = df.drop(\"Class\",axis=1)\n",
    "y = df.Class\n",
    "scaler = StandardScaler()\n",
    "X_scaled = scaler.fit_transform(X)\n",
    "pca = PCA()\n",
    "pca.fit_transform(X_scaled);"
   ]
  },
  {
   "cell_type": "code",
   "execution_count": 25,
   "id": "3aa46dc6-cd11-42a9-83e7-12356e023e23",
   "metadata": {
    "execution": {
     "parties": "[\"alice\"]",
     "shell.execute_reply.end": "2024-08-30T06:14:56.106130Z",
     "shell.execute_reply.started": "2024-08-30T06:14:56.100573Z",
     "to_execute": "2024-08-30T06:14:44.525Z"
    },
    "libroFormatter": "formatter-string"
   },
   "outputs": [],
   "source": [
    "cum_sum = np.cumsum(pca.explained_variance_ratio_)*100\n",
    "comp= [n for n in range(len(cum_sum))]"
   ]
  },
  {
   "cell_type": "code",
   "execution_count": 26,
   "id": "e1d10565-a4ff-446b-aab0-9a1e8fc0066a",
   "metadata": {
    "execution": {
     "parties": "[\"alice\"]",
     "shell.execute_reply.end": "2024-08-30T06:14:56.265956Z",
     "shell.execute_reply.started": "2024-08-30T06:14:56.108282Z",
     "to_execute": "2024-08-30T06:14:44.525Z"
    },
    "libroFormatter": "formatter-string"
   },
   "outputs": [
    {
     "data": {
      "image/png": "[encoded data removed]",
      "text/plain": [
       "<Figure size 700x500 with 1 Axes>"
      ]
     },
     "metadata": {},
     "output_type": "display_data"
    }
   ],
   "source": [
    "plt.figure(figsize=(7,5))\n",
    "plt.plot(comp, cum_sum, marker='.')\n",
    "plt.xlabel('PCA Components')\n",
    "plt.ylabel('Cumulative Explained Variance (%)')\n",
    "plt.title('PCA')\n",
    "plt.show()"
   ]
  },
  {
   "cell_type": "code",
   "execution_count": 27,
   "id": "4b0f4df6-f307-4fda-97d9-09c98dc9237b",
   "metadata": {
    "execution": {
     "parties": "[\"alice\"]",
     "shell.execute_reply.end": "2024-08-30T06:14:56.586980Z",
     "shell.execute_reply.started": "2024-08-30T06:14:56.269241Z",
     "to_execute": "2024-08-30T06:14:44.525Z"
    },
    "libroFormatter": "formatter-string"
   },
   "outputs": [
    {
     "name": "stdout",
     "output_type": "stream",
     "text": [
      "Training set: 176424\n",
      "Validation set: 44106\n",
      "Test set: 55133\n"
     ]
    }
   ],
   "source": [
    "from sklearn.model_selection import train_test_split\n",
    "X_train, X_test, y_train, y_test = train_test_split(X, y, test_size=0.2, stratify = y, random_state=seed)\n",
    "scaler = StandardScaler()\n",
    "\n",
    "X_train = scaler.fit_transform(X_train)\n",
    "X_test = scaler.transform(X_test)\n",
    "X_train, X_val, y_train, y_val = train_test_split(X_train, y_train, test_size=0.2, stratify=y_train, random_state=seed)\n",
    "print(f\"Training set: {X_train.shape[0]}\")\n",
    "print(f\"Validation set: {X_val.shape[0]}\")\n",
    "print(f\"Test set: {X_test.shape[0]}\")"
   ]
  },
  {
   "cell_type": "code",
   "execution_count": 28,
   "id": "4649f297-2234-4859-94e7-e50aa187df02",
   "metadata": {
    "execution": {
     "parties": "[\"alice\"]",
     "shell.execute_reply.end": "2024-08-30T06:14:56.595906Z",
     "shell.execute_reply.started": "2024-08-30T06:14:56.588689Z",
     "to_execute": "2024-08-30T06:14:44.526Z"
    },
    "libroFormatter": "formatter-string"
   },
   "outputs": [],
   "source": [
    "from secretflow.security.aggregation import SecureAggregator\n",
    "from secretflow.ml.nn import FLModel\n",
    "import tensorflow as tf\n",
    "from tensorflow import keras\n",
    "EPOCHS = 100\n",
    "BATCH_SIZE = 256\n",
    "def objective(input_shape,num_classes,name='model'):\n",
    "    def objective(trial):\n",
    "\n",
    "        model = keras.Sequential()\n",
    "\n",
    "        in_feat = X_train.shape[0]\n",
    "\n",
    "        for i in range(trial.suggest_int(\"n_layers\", 1, 2)):\n",
    "            out_feat = trial.suggest_int(\"n_units_{}\".format(i+1), 1, 40)\n",
    "            model.add(keras.layers.Dense(units=out_feat, activation='relu'))\n",
    "            model.add(keras.layers.Dropout(trial.suggest_uniform(\"dropout_{}\".format(i+1), 0.2, 0.5)))\n",
    "            in_feat=out_feat\n",
    " \n",
    "        model.add(keras.layers.Dense(1, activation='sigmoid'))\n",
    "    \n",
    "        model.compile(loss='binary_crossentropy',\n",
    "                    optimizer=keras.optimizers.Adam(trial.suggest_float(\"lr\", 5e-5, 1e-2, log=True)),\n",
    "                    metrics=['accuracy'])\n",
    "    \n",
    "        early_stop = tf.keras.callbacks.EarlyStopping(monitor=\"val_accuracy\", patience=5, restore_best_weights=True)\n",
    "    \n",
    "        model.fit(X_train, y_train,\n",
    "                validation_data = (X_val, y_val),\n",
    "                shuffle = True,\n",
    "                batch_size = BATCH_SIZE,\n",
    "                epochs = EPOCHS,\n",
    "                callbacks = [early_stop], \n",
    "                verbose = False )\n",
    "    \n",
    "        score = model.evaluate(X_val, y_val, verbose=0)\n",
    "                  \n",
    "        return score[1]\n",
    "    return objective"
   ]
  },
  {
   "cell_type": "code",
   "execution_count": 29,
   "id": "680f7975-8780-4534-a82e-5d64856a0b9c",
   "metadata": {
    "execution": {
     "parties": "[\"alice\"]",
     "shell.execute_reply.end": "2024-08-30T06:14:56.603562Z",
     "shell.execute_reply.started": "2024-08-30T06:14:56.599559Z",
     "to_execute": "2024-08-30T06:14:44.527Z"
    },
    "libroFormatter": "formatter-string"
   },
   "outputs": [],
   "source": [
    "# import optuna\n",
    "# num_classes=10\n",
    "# input_shape=(28,28,1)\n",
    "# study = optuna.create_study(direction=\"maximize\")\n",
    "# study.optimize(objective(input_shape,num_classes), n_trials=10)\n",
    "\n",
    "# print(\"Number of finished trials: {}\".format(len(study.trials)))\n",
    "\n",
    "# print(\"Best trial:\")\n",
    "# trial = study.best_trial\n",
    "\n",
    "# print(\"  Value: {}\".format(trial.value))\n",
    "\n",
    "# params_1 = []\n",
    "\n",
    "# for key, value in trial.params.items():\n",
    "#     params_1.append(value)\n",
    "#     print(\"    {}: {}\".format(key, value))"
   ]
  },
  {
   "cell_type": "code",
   "execution_count": 30,
   "id": "faa10066-c4d0-4156-aa87-4907e5c54895",
   "metadata": {
    "execution": {
     "parties": "[\"alice\"]",
     "shell.execute_reply.end": "2024-08-30T06:14:56.616170Z",
     "shell.execute_reply.started": "2024-08-30T06:14:56.610046Z",
     "to_execute": "2024-08-30T06:14:44.527Z"
    },
    "libroFormatter": "formatter-string"
   },
   "outputs": [
    {
     "data": {
      "text/plain": [
       "((176424, 29, 1), (55133, 29, 1))"
      ]
     },
     "execution_count": 30,
     "metadata": {},
     "output_type": "execute_result"
    }
   ],
   "source": [
    "X_train = X_train.reshape(X_train.shape[0], X_train.shape[1], 1)\n",
    "X_test = X_test.reshape(X_test.shape[0], X_test.shape[1], 1)\n",
    "X_val = X_val.reshape(X_val.shape[0],X_val.shape[1], 1)\n",
    "X_train.shape, X_test.shape, X_val.shape"
   ]
  },
  {
   "cell_type": "code",
   "execution_count": 51,
   "id": "68a49785-e9c4-4590-a9b1-1cada187c568",
   "metadata": {
    "execution": {
     "parties": "[\"alice\"]",
     "shell.execute_reply.end": "2024-08-30T06:46:41.086786Z",
     "shell.execute_reply.started": "2024-08-30T06:46:40.535387Z",
     "to_execute": "2024-08-30T06:46:40.532Z"
    },
    "libroFormatter": "formatter-string"
   },
   "outputs": [
    {
     "name": "stdout",
     "output_type": "stream",
     "text": [
      "{PYURuntime(alice): (70570, 29, 1), PYURuntime(bob): (105854, 29, 1)}\n",
      "{PYURuntime(alice): (70570,), PYURuntime(bob): (105854,)}\n",
      "{PYURuntime(alice): (17642, 29, 1), PYURuntime(bob): (26464, 29, 1)}\n",
      "{PYURuntime(alice): (17642,), PYURuntime(bob): (26464,)}\n",
      "{PYURuntime(alice): (22053, 29, 1), PYURuntime(bob): (33080, 29, 1)}\n",
      "{PYURuntime(alice): (22053,), PYURuntime(bob): (33080,)}\n"
     ]
    }
   ],
   "source": [
    "# from sklearn.model_selection import train_test_split\n",
    "# from secretflow.utils.simulation.datasets import dataset\n",
    "# import pandas as pd\n",
    "\n",
    "# df = pd.read_csv(dataset('creditcard'), sep=',')\n",
    "# X_train, X_test, y_train, y_test = train_test_split(X, y, test_size=0.2, stratify = y, random_state=seed)\n",
    "# scaler = StandardScaler()\n",
    "\n",
    "# X_train = scaler.fit_transform(X_train)\n",
    "# X_test = scaler.transform(X_test)\n",
    "# X_train, X_val, y_train, y_val = train_test_split(X_train, y_train, test_size=0.2, stratify=y_train, random_state=seed)\n",
    "# print(f\"Training set: {X_train.shape[0]}\")\n",
    "# print(f\"Validation set: {X_val.shape[0]}\")\n",
    "# print(f\"Test set: {X_test.shape[0]}\")\n",
    "from secretflow.utils.simulation.data.ndarray import create_ndarray\n",
    "\n",
    "parts = {\n",
    "    alice: 0.4,\n",
    "    bob: 0.6,\n",
    "}\n",
    "if not isinstance(y_train, np.ndarray):\n",
    "    y_train = y_train.to_numpy()\n",
    "if not isinstance(y_test, np.ndarray):\n",
    "    y_test = y_test.to_numpy()\n",
    "if not isinstance(y_val, np.ndarray):\n",
    "    y_val = y_val.to_numpy()\n",
    "fed_train_x = create_ndarray(X_train, parts=parts, axis=0)\n",
    "fed_train_y = create_ndarray(y_train, parts=parts, axis=0)\n",
    "fed_val_x = create_ndarray(X_val, parts=parts, axis=0)\n",
    "fed_val_y = create_ndarray(y_val, parts=parts, axis=0)\n",
    "fed_test_x = create_ndarray(X_test, parts=parts, axis=0)\n",
    "fed_test_y = create_ndarray(y_test, parts=parts, axis=0)\n",
    "print(fed_train_x.partition_shape())\n",
    "print(fed_train_y.partition_shape())\n",
    "print(fed_val_x .partition_shape())\n",
    "print(fed_val_y.partition_shape())\n",
    "print(fed_test_x.partition_shape())\n",
    "print(fed_test_y.partition_shape())\n",
    "\n"
   ]
  },
  {
   "cell_type": "code",
   "execution_count": 52,
   "id": "1d7c24a8-07f1-429e-bc42-03abbd321cdf",
   "metadata": {
    "execution": {
     "parties": "[\"alice\"]",
     "shell.execute_reply.end": "2024-08-30T06:46:46.310579Z",
     "shell.execute_reply.started": "2024-08-30T06:46:46.275347Z",
     "to_execute": "2024-08-30T06:46:46.270Z"
    },
    "libroFormatter": "formatter-string"
   },
   "outputs": [],
   "source": [
    "def create_model(input_shape, num_classes, name=\"model\"):\n",
    "    def create_model():\n",
    "        from tensorflow.keras.layers import Flatten, Dense, Dropout, BatchNormalization\n",
    "        from tensorflow.keras.layers import Conv1D, MaxPool1D\n",
    "        from tensorflow.keras import Sequential\n",
    "        from tensorflow.keras.optimizers import Adam\n",
    "\n",
    "        model = Sequential()\n",
    "        model.add(Conv1D(32, 2, activation=\"relu\", input_shape=input_shape))\n",
    "        model.add(BatchNormalization())\n",
    "        model.add(Dropout(0.2))\n",
    "\n",
    "        model.add(Conv1D(64, 2, activation=\"relu\"))\n",
    "        model.add(BatchNormalization())\n",
    "        model.add(Dropout(0.5))\n",
    "\n",
    "        model.add(Flatten())\n",
    "        model.add(Dense(64, activation=\"relu\"))\n",
    "        model.add(Dropout(0.5))\n",
    "\n",
    "        model.add(Dense(1, activation=\"sigmoid\"))\n",
    "\n",
    "        model.compile(\n",
    "            optimizer=Adam(lr=0.0001), loss=\"binary_crossentropy\", metrics=[\"accuracy\"]\n",
    "        )\n",
    "        model.summary()\n",
    "\n",
    "        return model\n",
    "\n",
    "    return create_model"
   ]
  },
  {
   "cell_type": "code",
   "execution_count": 53,
   "id": "f5d0033e-c051-47f9-8993-87ca82609da3",
   "metadata": {
    "execution": {
     "parties": "[\"alice\"]",
     "shell.execute_reply.end": "2024-08-30T06:46:53.708306Z",
     "shell.execute_reply.started": "2024-08-30T06:46:48.417164Z",
     "to_execute": "2024-08-30T06:46:48.413Z"
    },
    "libroFormatter": "formatter-string"
   },
   "outputs": [
    {
     "name": "stderr",
     "output_type": "stream",
     "text": [
      "INFO:root:Create proxy actor <class 'secretflow.security.aggregation.secure_aggregator._Masker'> with party alice.\n",
      "INFO:root:Create proxy actor <class 'secretflow.security.aggregation.secure_aggregator._Masker'> with party bob.\n",
      "INFO:root:Create proxy actor <class 'secretflow.ml.nn.fl.backend.tensorflow.strategy.fed_avg_w.PYUFedAvgW'> with party alice.\n",
      "INFO:root:Create proxy actor <class 'secretflow.ml.nn.fl.backend.tensorflow.strategy.fed_avg_w.PYUFedAvgW'> with party bob.\n"
     ]
    }
   ],
   "source": [
    "device_list = [alice, bob]\n",
    "secure_aggregator = SecureAggregator(charlie, [alice, bob])\n",
    "spu_aggregator = SPUAggregator(spu)\n",
    "num_classes = 10\n",
    "input_shape=X_train[0].shape\n",
    "model = create_model(input_shape, num_classes)\n",
    "fed_model = FLModel(\n",
    "    server=charlie,\n",
    "    device_list=device_list,\n",
    "    model=model,\n",
    "    aggregator=secure_aggregator,\n",
    "    strategy=\"fed_avg_w\",\n",
    "    backend=\"tensorflow\",\n",
    ")"
   ]
  },
  {
   "cell_type": "code",
   "execution_count": 34,
   "id": "1906ec30-ccfe-4384-ae1c-c174799b72e4",
   "metadata": {
    "execution": {
     "parties": "[\"alice\"]",
     "shell.execute_reply.end": "2024-08-30T06:15:01.169532Z",
     "shell.execute_reply.started": "2024-08-30T06:15:01.159082Z",
     "to_execute": "2024-08-30T06:14:44.529Z"
    },
    "libroFormatter": "formatter-string"
   },
   "outputs": [
    {
     "data": {
      "text/plain": [
       "dtype('float64')"
      ]
     },
     "execution_count": 34,
     "metadata": {},
     "output_type": "execute_result"
    }
   ],
   "source": [
    "X_train.dtype"
   ]
  },
  {
   "cell_type": "code",
   "execution_count": 35,
   "id": "a8f1224e-1640-47a6-bc6d-1711e73999db",
   "metadata": {
    "execution": {
     "parties": "[\"alice\"]",
     "shell.execute_reply.end": "2024-08-30T06:15:01.183147Z",
     "shell.execute_reply.started": "2024-08-30T06:15:01.174388Z",
     "to_execute": "2024-08-30T06:14:44.529Z"
    },
    "libroFormatter": "formatter-string"
   },
   "outputs": [
    {
     "data": {
      "text/plain": [
       "dtype('float64')"
      ]
     },
     "execution_count": 35,
     "metadata": {},
     "output_type": "execute_result"
    }
   ],
   "source": [
    "y_train.dtype"
   ]
  },
  {
   "cell_type": "code",
   "execution_count": 36,
   "id": "f4140029-859a-4104-a482-ff08ccd085bd",
   "metadata": {
    "execution": {
     "parties": "[\"alice\"]",
     "shell.execute_reply.end": "2024-08-30T06:15:01.196374Z",
     "shell.execute_reply.started": "2024-08-30T06:15:01.187856Z",
     "to_execute": "2024-08-30T06:14:44.530Z"
    },
    "libroFormatter": "formatter-string"
   },
   "outputs": [
    {
     "data": {
      "text/plain": [
       "dtype('float64')"
      ]
     },
     "execution_count": 36,
     "metadata": {},
     "output_type": "execute_result"
    }
   ],
   "source": [
    "X_val.dtype"
   ]
  },
  {
   "cell_type": "code",
   "execution_count": 37,
   "id": "5e6d3dba-d4db-4057-9dfb-33c22092601e",
   "metadata": {
    "execution": {
     "parties": "[\"alice\"]",
     "shell.execute_reply.end": "2024-08-30T06:15:01.211133Z",
     "shell.execute_reply.started": "2024-08-30T06:15:01.201537Z",
     "to_execute": "2024-08-30T06:14:44.530Z"
    },
    "libroFormatter": "formatter-string"
   },
   "outputs": [
    {
     "data": {
      "text/plain": [
       "dtype('float64')"
      ]
     },
     "execution_count": 37,
     "metadata": {},
     "output_type": "execute_result"
    }
   ],
   "source": [
    "y_val.dtype"
   ]
  },
  {
   "cell_type": "code",
   "execution_count": 42,
   "id": "0b44a157-b0de-458d-a12e-55ce8b11ca84",
   "metadata": {
    "execution": {
     "parties": "[\"alice\"]",
     "shell.execute_reply.end": "2024-08-30T06:29:55.920743Z",
     "shell.execute_reply.started": "2024-08-30T06:29:55.905602Z",
     "to_execute": "2024-08-30T06:29:55.902Z"
    },
    "libroFormatter": "formatter-string"
   },
   "outputs": [],
   "source": [
    "early_stop = tf.keras.callbacks.EarlyStopping(monitor=\"val_accuracy\", patience=10, restore_best_weights=True)\n"
   ]
  },
  {
   "cell_type": "code",
   "execution_count": 54,
   "id": "38a7ab61-44f5-45bb-8061-6b426a41c376",
   "metadata": {
    "execution": {
     "parties": "[\"alice\"]",
     "shell.execute_reply.end": "2024-08-30T06:49:05.509419Z",
     "shell.execute_reply.started": "2024-08-30T06:46:56.895592Z",
     "to_execute": "2024-08-30T06:46:56.873Z"
    },
    "libroFormatter": "formatter-string"
   },
   "outputs": [
    {
     "name": "stderr",
     "output_type": "stream",
     "text": [
      "INFO:root:FL Train Params: {'x': FedNdarray(partitions={PYURuntime(alice): <secretflow.device.device.pyu.PYUObject object at 0x7e227152f8e0>, PYURuntime(bob): <secretflow.device.device.pyu.PYUObject object at 0x7e226a0a0550>}, partition_way=<PartitionWay.HORIZONTAL: 'horizontal'>), 'y': FedNdarray(partitions={PYURuntime(alice): <secretflow.device.device.pyu.PYUObject object at 0x7e2268662d40>, PYURuntime(bob): <secretflow.device.device.pyu.PYUObject object at 0x7e22686623b0>}, partition_way=<PartitionWay.HORIZONTAL: 'horizontal'>), 'batch_size': 256, 'batch_sampling_rate': None, 'epochs': 10, 'verbose': 1, 'callbacks': None, 'validation_data': (FedNdarray(partitions={PYURuntime(alice): <secretflow.device.device.pyu.PYUObject object at 0x7e22716495d0>, PYURuntime(bob): <secretflow.device.device.pyu.PYUObject object at 0x7e2271678d60>}, partition_way=<PartitionWay.HORIZONTAL: 'horizontal'>), FedNdarray(partitions={PYURuntime(alice): <secretflow.device.device.pyu.PYUObject object at 0x7e230bf188e0>, PYURuntime(bob): <secretflow.device.device.pyu.PYUObject object at 0x7e22686616c0>}, partition_way=<PartitionWay.HORIZONTAL: 'horizontal'>)), 'shuffle': False, 'class_weight': None, 'sample_weight': None, 'validation_freq': 1, 'aggregate_freq': 1, 'label_decoder': None, 'max_batch_size': 20000, 'prefetch_buffer_size': None, 'sampler_method': 'batch', 'random_seed': 10697, 'dp_spent_step_freq': None, 'audit_log_dir': None, 'dataset_builder': None, 'wait_steps': 100, 'self': <secretflow.ml.nn.fl.fl_model.FLModel object at 0x7e226eb755d0>}\n",
      "Train Processing: :   0%|          | 0/276 [00:00<?, ?it/s]"
     ]
    },
    {
     "name": "stdout",
     "output_type": "stream",
     "text": [
      "Epoch 1/10\n"
     ]
    },
    {
     "name": "stderr",
     "output_type": "stream",
     "text": [
      "Train Processing: : 100%|█████████▉| 275/276 [00:46<00:00,  5.91it/s, {'loss': 0.036367677, 'accuracy': 0.9889039, 'val_loss': 0.0048747887, 'val_accuracy': 0.998889}]\n",
      "Train Processing: :   0%|          | 0/276 [00:00<?, ?it/s]"
     ]
    },
    {
     "name": "stdout",
     "output_type": "stream",
     "text": [
      "Epoch 2/10\n"
     ]
    },
    {
     "name": "stderr",
     "output_type": "stream",
     "text": [
      "Train Processing: : 100%|█████████▉| 275/276 [00:46<00:00,  5.92it/s, {'loss': 0.0047568525, 'accuracy': 0.99924594, 'val_loss': 0.0050104833, 'val_accuracy': 0.99922913}]\n",
      "Train Processing: :   0%|          | 0/276 [00:00<?, ?it/s]"
     ]
    },
    {
     "name": "stdout",
     "output_type": "stream",
     "text": [
      "Epoch 3/10\n"
     ]
    },
    {
     "name": "stderr",
     "output_type": "stream",
     "text": [
      "Train Processing: :  58%|█████▊    | 159/276 [00:25<00:20,  5.67it/s]"
     ]
    },
    {
     "ename": "KeyboardInterrupt",
     "evalue": "",
     "output_type": "error",
     "traceback": [
      "\u001b[0;31m---------------------------------------------------------------------------\u001b[0m",
      "\u001b[0;31mKeyboardInterrupt\u001b[0m                         Traceback (most recent call last)",
      "Cell \u001b[0;32mIn[54], line 3\u001b[0m\n\u001b[1;32m      1\u001b[0m EPOCHS \u001b[38;5;241m=\u001b[39m \u001b[38;5;241m10\u001b[39m\n\u001b[1;32m      2\u001b[0m BATCH_SIZE \u001b[38;5;241m=\u001b[39m \u001b[38;5;241m256\u001b[39m\n\u001b[0;32m----> 3\u001b[0m history \u001b[38;5;241m=\u001b[39m \u001b[43mfed_model\u001b[49m\u001b[38;5;241;43m.\u001b[39;49m\u001b[43mfit\u001b[49m\u001b[43m(\u001b[49m\n\u001b[1;32m      4\u001b[0m \u001b[43m    \u001b[49m\u001b[43mfed_train_x\u001b[49m\u001b[43m \u001b[49m\u001b[43m,\u001b[49m\n\u001b[1;32m      5\u001b[0m \u001b[43m    \u001b[49m\u001b[43mfed_train_y\u001b[49m\u001b[43m,\u001b[49m\n\u001b[1;32m      6\u001b[0m \u001b[43m    \u001b[49m\u001b[43mvalidation_data\u001b[49m\u001b[38;5;241;43m=\u001b[39;49m\u001b[43m(\u001b[49m\u001b[43mfed_val_x\u001b[49m\u001b[43m,\u001b[49m\u001b[43m \u001b[49m\u001b[43mfed_val_y\u001b[49m\u001b[43m)\u001b[49m\u001b[43m,\u001b[49m\n\u001b[1;32m      7\u001b[0m \u001b[43m    \u001b[49m\u001b[43mepochs\u001b[49m\u001b[38;5;241;43m=\u001b[39;49m\u001b[43mEPOCHS\u001b[49m\u001b[43m,\u001b[49m\n\u001b[1;32m      8\u001b[0m \u001b[43m    \u001b[49m\u001b[43mbatch_size\u001b[49m\u001b[38;5;241;43m=\u001b[39;49m\u001b[43mBATCH_SIZE\u001b[49m\u001b[43m,\u001b[49m\n\u001b[1;32m      9\u001b[0m \u001b[43m    \u001b[49m\u001b[43maggregate_freq\u001b[49m\u001b[38;5;241;43m=\u001b[39;49m\u001b[38;5;241;43m1\u001b[39;49m\u001b[43m,\u001b[49m\n\u001b[1;32m     10\u001b[0m \u001b[43m    \u001b[49m\u001b[43mverbose\u001b[49m\u001b[38;5;241;43m=\u001b[39;49m\u001b[38;5;241;43m1\u001b[39;49m\u001b[43m,\u001b[49m\n\u001b[1;32m     11\u001b[0m \u001b[43m    \u001b[49m\n\u001b[1;32m     12\u001b[0m \u001b[43m)\u001b[49m\n",
      "File \u001b[0;32m/usr/local/lib/python3.10/site-packages/secretflow/ml/nn/fl/fl_model.py:510\u001b[0m, in \u001b[0;36mFLModel.fit\u001b[0;34m(self, x, y, batch_size, batch_sampling_rate, epochs, verbose, callbacks, validation_data, shuffle, class_weight, sample_weight, validation_freq, aggregate_freq, label_decoder, max_batch_size, prefetch_buffer_size, sampler_method, random_seed, dp_spent_step_freq, audit_log_dir, dataset_builder, wait_steps)\u001b[0m\n\u001b[1;32m    508\u001b[0m     res\u001b[38;5;241m.\u001b[39mappend(client_params)\n\u001b[1;32m    509\u001b[0m \u001b[38;5;28;01mif\u001b[39;00m \u001b[38;5;28mself\u001b[39m\u001b[38;5;241m.\u001b[39m_aggregator \u001b[38;5;129;01mis\u001b[39;00m \u001b[38;5;129;01mnot\u001b[39;00m \u001b[38;5;28;01mNone\u001b[39;00m:\n\u001b[0;32m--> 510\u001b[0m     model_params \u001b[38;5;241m=\u001b[39m \u001b[38;5;28;43mself\u001b[39;49m\u001b[38;5;241;43m.\u001b[39;49m\u001b[43m_aggregator\u001b[49m\u001b[38;5;241;43m.\u001b[39;49m\u001b[43maverage\u001b[49m\u001b[43m(\u001b[49m\n\u001b[1;32m    511\u001b[0m \u001b[43m        \u001b[49m\u001b[43mclient_param_list\u001b[49m\u001b[43m,\u001b[49m\u001b[43m \u001b[49m\u001b[43maxis\u001b[49m\u001b[38;5;241;43m=\u001b[39;49m\u001b[38;5;241;43m0\u001b[39;49m\u001b[43m,\u001b[49m\u001b[43m \u001b[49m\u001b[43mweights\u001b[49m\u001b[38;5;241;43m=\u001b[39;49m\u001b[43msample_num_list\u001b[49m\n\u001b[1;32m    512\u001b[0m \u001b[43m    \u001b[49m\u001b[43m)\u001b[49m\n\u001b[1;32m    513\u001b[0m \u001b[38;5;28;01melse\u001b[39;00m:\n\u001b[1;32m    514\u001b[0m     \u001b[38;5;28;01mif\u001b[39;00m \u001b[38;5;28mself\u001b[39m\u001b[38;5;241m.\u001b[39mserver \u001b[38;5;129;01mis\u001b[39;00m \u001b[38;5;129;01mnot\u001b[39;00m \u001b[38;5;28;01mNone\u001b[39;00m:\n\u001b[1;32m    515\u001b[0m         \u001b[38;5;66;03m# server will do aggregation\u001b[39;00m\n",
      "File \u001b[0;32m/usr/local/lib/python3.10/site-packages/secretflow/security/aggregation/secure_aggregator.py:294\u001b[0m, in \u001b[0;36mSecureAggregator.average\u001b[0;34m(self, data, axis, weights)\u001b[0m\n\u001b[1;32m    292\u001b[0m masked_data \u001b[38;5;241m=\u001b[39m [d\u001b[38;5;241m.\u001b[39mto(\u001b[38;5;28mself\u001b[39m\u001b[38;5;241m.\u001b[39m_device) \u001b[38;5;28;01mfor\u001b[39;00m d \u001b[38;5;129;01min\u001b[39;00m masked_data]\n\u001b[1;32m    293\u001b[0m dtypes \u001b[38;5;241m=\u001b[39m [dtype\u001b[38;5;241m.\u001b[39mto(\u001b[38;5;28mself\u001b[39m\u001b[38;5;241m.\u001b[39m_device) \u001b[38;5;28;01mfor\u001b[39;00m dtype \u001b[38;5;129;01min\u001b[39;00m dtypes]\n\u001b[0;32m--> 294\u001b[0m \u001b[38;5;28;01mreturn\u001b[39;00m \u001b[38;5;28;43mself\u001b[39;49m\u001b[38;5;241;43m.\u001b[39;49m\u001b[43m_device\u001b[49m\u001b[43m(\u001b[49m\u001b[43m_average\u001b[49m\u001b[43m)\u001b[49m\u001b[43m(\u001b[49m\n\u001b[1;32m    295\u001b[0m \u001b[43m    \u001b[49m\u001b[38;5;241;43m*\u001b[39;49m\u001b[43mmasked_data\u001b[49m\u001b[43m,\u001b[49m\u001b[43m \u001b[49m\u001b[43mdtypes\u001b[49m\u001b[38;5;241;43m=\u001b[39;49m\u001b[43mdtypes\u001b[49m\u001b[43m,\u001b[49m\u001b[43m \u001b[49m\u001b[43mweights\u001b[49m\u001b[38;5;241;43m=\u001b[39;49m\u001b[43m_weights\u001b[49m\u001b[43m,\u001b[49m\u001b[43m \u001b[49m\u001b[43mfxp_bits\u001b[49m\u001b[38;5;241;43m=\u001b[39;49m\u001b[38;5;28;43mself\u001b[39;49m\u001b[38;5;241;43m.\u001b[39;49m\u001b[43m_fxp_bits\u001b[49m\n\u001b[1;32m    296\u001b[0m \u001b[43m\u001b[49m\u001b[43m)\u001b[49m\n",
      "File \u001b[0;32m/usr/local/lib/python3.10/site-packages/secretflow/device/device/pyu.py:100\u001b[0m, in \u001b[0;36mPYU.__call__.<locals>.wrapper\u001b[0;34m(*args, **kwargs)\u001b[0m\n\u001b[1;32m     94\u001b[0m args_, kwargs_ \u001b[38;5;241m=\u001b[39m jax\u001b[38;5;241m.\u001b[39mtree_util\u001b[38;5;241m.\u001b[39mtree_map(\n\u001b[1;32m     95\u001b[0m     \u001b[38;5;28;01mlambda\u001b[39;00m arg: try_get_data(arg, \u001b[38;5;28mself\u001b[39m), (args, kwargs)\n\u001b[1;32m     96\u001b[0m )\n\u001b[1;32m     98\u001b[0m _num_returns \u001b[38;5;241m=\u001b[39m check_num_returns(fn) \u001b[38;5;28;01mif\u001b[39;00m num_returns \u001b[38;5;129;01mis\u001b[39;00m \u001b[38;5;28;01mNone\u001b[39;00m \u001b[38;5;28;01melse\u001b[39;00m num_returns\n\u001b[1;32m     99\u001b[0m data \u001b[38;5;241m=\u001b[39m (\n\u001b[0;32m--> 100\u001b[0m     \u001b[43msfd\u001b[49m\u001b[38;5;241;43m.\u001b[39;49m\u001b[43mremote\u001b[49m\u001b[43m(\u001b[49m\u001b[38;5;28;43mself\u001b[39;49m\u001b[38;5;241;43m.\u001b[39;49m\u001b[43m_run\u001b[49m\u001b[43m)\u001b[49m\n\u001b[1;32m    101\u001b[0m \u001b[43m    \u001b[49m\u001b[38;5;241;43m.\u001b[39;49m\u001b[43mparty\u001b[49m\u001b[43m(\u001b[49m\u001b[38;5;28;43mself\u001b[39;49m\u001b[38;5;241;43m.\u001b[39;49m\u001b[43mparty\u001b[49m\u001b[43m)\u001b[49m\n\u001b[1;32m    102\u001b[0m \u001b[43m    \u001b[49m\u001b[38;5;241;43m.\u001b[39;49m\u001b[43moptions\u001b[49m\u001b[43m(\u001b[49m\u001b[43mnum_returns\u001b[49m\u001b[38;5;241;43m=\u001b[39;49m\u001b[43m_num_returns\u001b[49m\u001b[43m)\u001b[49m\n\u001b[1;32m    103\u001b[0m \u001b[43m    \u001b[49m\u001b[38;5;241;43m.\u001b[39;49m\u001b[43mremote\u001b[49m\u001b[43m(\u001b[49m\u001b[43mfn\u001b[49m\u001b[43m,\u001b[49m\u001b[43m \u001b[49m\u001b[38;5;241;43m*\u001b[39;49m\u001b[43margs_\u001b[49m\u001b[43m,\u001b[49m\u001b[43m \u001b[49m\u001b[38;5;241;43m*\u001b[39;49m\u001b[38;5;241;43m*\u001b[39;49m\u001b[43mkwargs_\u001b[49m\u001b[43m)\u001b[49m\n\u001b[1;32m    104\u001b[0m )\n\u001b[1;32m    105\u001b[0m logging\u001b[38;5;241m.\u001b[39mdebug(\n\u001b[1;32m    106\u001b[0m     (\n\u001b[1;32m    107\u001b[0m         \u001b[38;5;124mf\u001b[39m\u001b[38;5;124m'\u001b[39m\u001b[38;5;124mPYU remote function: \u001b[39m\u001b[38;5;132;01m{\u001b[39;00mfn\u001b[38;5;132;01m}\u001b[39;00m\u001b[38;5;124m, num_returns=\u001b[39m\u001b[38;5;132;01m{\u001b[39;00mnum_returns\u001b[38;5;132;01m}\u001b[39;00m\u001b[38;5;124m, \u001b[39m\u001b[38;5;124m'\u001b[39m\n\u001b[1;32m    108\u001b[0m         \u001b[38;5;124mf\u001b[39m\u001b[38;5;124m'\u001b[39m\u001b[38;5;124margs len: \u001b[39m\u001b[38;5;132;01m{\u001b[39;00m\u001b[38;5;28mlen\u001b[39m(args)\u001b[38;5;132;01m}\u001b[39;00m\u001b[38;5;124m, kwargs len: \u001b[39m\u001b[38;5;132;01m{\u001b[39;00m\u001b[38;5;28mlen\u001b[39m(kwargs)\u001b[38;5;132;01m}\u001b[39;00m\u001b[38;5;124m.\u001b[39m\u001b[38;5;124m'\u001b[39m\n\u001b[1;32m    109\u001b[0m     )\n\u001b[1;32m    110\u001b[0m )\n\u001b[1;32m    111\u001b[0m \u001b[38;5;28;01mif\u001b[39;00m _num_returns \u001b[38;5;241m==\u001b[39m \u001b[38;5;241m1\u001b[39m:\n",
      "File \u001b[0;32m/usr/local/lib/python3.10/site-packages/ray/remote_function.py:246\u001b[0m, in \u001b[0;36mRemoteFunction.options.<locals>.FuncWrapper.remote\u001b[0;34m(self, *args, **kwargs)\u001b[0m\n\u001b[1;32m    245\u001b[0m \u001b[38;5;28;01mdef\u001b[39;00m \u001b[38;5;21mremote\u001b[39m(\u001b[38;5;28mself\u001b[39m, \u001b[38;5;241m*\u001b[39margs, \u001b[38;5;241m*\u001b[39m\u001b[38;5;241m*\u001b[39mkwargs):\n\u001b[0;32m--> 246\u001b[0m     \u001b[38;5;28;01mreturn\u001b[39;00m \u001b[43mfunc_cls\u001b[49m\u001b[38;5;241;43m.\u001b[39;49m\u001b[43m_remote\u001b[49m\u001b[43m(\u001b[49m\u001b[43margs\u001b[49m\u001b[38;5;241;43m=\u001b[39;49m\u001b[43margs\u001b[49m\u001b[43m,\u001b[49m\u001b[43m \u001b[49m\u001b[43mkwargs\u001b[49m\u001b[38;5;241;43m=\u001b[39;49m\u001b[43mkwargs\u001b[49m\u001b[43m,\u001b[49m\u001b[43m \u001b[49m\u001b[38;5;241;43m*\u001b[39;49m\u001b[38;5;241;43m*\u001b[39;49m\u001b[43mupdated_options\u001b[49m\u001b[43m)\u001b[49m\n",
      "File \u001b[0;32m/usr/local/lib/python3.10/site-packages/secretflow/distributed/primitive.py:213\u001b[0m, in \u001b[0;36mRemoteFunctionWrapper._remote\u001b[0;34m(self, *args, **kwargs)\u001b[0m\n\u001b[1;32m    211\u001b[0m \u001b[38;5;28;01mdef\u001b[39;00m \u001b[38;5;21m_remote\u001b[39m(\u001b[38;5;28mself\u001b[39m, \u001b[38;5;241m*\u001b[39margs, \u001b[38;5;241m*\u001b[39m\u001b[38;5;241m*\u001b[39mkwargs):\n\u001b[1;32m    212\u001b[0m     args, kwargs \u001b[38;5;241m=\u001b[39m _resolve_args(\u001b[38;5;241m*\u001b[39margs, \u001b[38;5;241m*\u001b[39m\u001b[38;5;241m*\u001b[39mkwargs)\n\u001b[0;32m--> 213\u001b[0m     \u001b[38;5;28;01mreturn\u001b[39;00m \u001b[38;5;28;43msuper\u001b[39;49m\u001b[43m(\u001b[49m\u001b[43m)\u001b[49m\u001b[38;5;241;43m.\u001b[39;49m\u001b[43m_remote\u001b[49m\u001b[43m(\u001b[49m\u001b[38;5;241;43m*\u001b[39;49m\u001b[43margs\u001b[49m\u001b[43m,\u001b[49m\u001b[43m \u001b[49m\u001b[38;5;241;43m*\u001b[39;49m\u001b[38;5;241;43m*\u001b[39;49m\u001b[43mkwargs\u001b[49m\u001b[43m)\u001b[49m\n",
      "File \u001b[0;32m/usr/local/lib/python3.10/site-packages/ray/_private/auto_init_hook.py:22\u001b[0m, in \u001b[0;36mwrap_auto_init.<locals>.auto_init_wrapper\u001b[0;34m(*args, **kwargs)\u001b[0m\n\u001b[1;32m     19\u001b[0m \u001b[38;5;129m@wraps\u001b[39m(fn)\n\u001b[1;32m     20\u001b[0m \u001b[38;5;28;01mdef\u001b[39;00m \u001b[38;5;21mauto_init_wrapper\u001b[39m(\u001b[38;5;241m*\u001b[39margs, \u001b[38;5;241m*\u001b[39m\u001b[38;5;241m*\u001b[39mkwargs):\n\u001b[1;32m     21\u001b[0m     auto_init_ray()\n\u001b[0;32m---> 22\u001b[0m     \u001b[38;5;28;01mreturn\u001b[39;00m \u001b[43mfn\u001b[49m\u001b[43m(\u001b[49m\u001b[38;5;241;43m*\u001b[39;49m\u001b[43margs\u001b[49m\u001b[43m,\u001b[49m\u001b[43m \u001b[49m\u001b[38;5;241;43m*\u001b[39;49m\u001b[38;5;241;43m*\u001b[39;49m\u001b[43mkwargs\u001b[49m\u001b[43m)\u001b[49m\n",
      "File \u001b[0;32m/usr/local/lib/python3.10/site-packages/ray/util/tracing/tracing_helper.py:310\u001b[0m, in \u001b[0;36m_tracing_task_invocation.<locals>._invocation_remote_span\u001b[0;34m(self, args, kwargs, *_args, **_kwargs)\u001b[0m\n\u001b[1;32m    308\u001b[0m     \u001b[38;5;28;01mif\u001b[39;00m kwargs \u001b[38;5;129;01mis\u001b[39;00m \u001b[38;5;129;01mnot\u001b[39;00m \u001b[38;5;28;01mNone\u001b[39;00m:\n\u001b[1;32m    309\u001b[0m         \u001b[38;5;28;01massert\u001b[39;00m \u001b[38;5;124m\"\u001b[39m\u001b[38;5;124m_ray_trace_ctx\u001b[39m\u001b[38;5;124m\"\u001b[39m \u001b[38;5;129;01mnot\u001b[39;00m \u001b[38;5;129;01min\u001b[39;00m kwargs\n\u001b[0;32m--> 310\u001b[0m     \u001b[38;5;28;01mreturn\u001b[39;00m \u001b[43mmethod\u001b[49m\u001b[43m(\u001b[49m\u001b[38;5;28;43mself\u001b[39;49m\u001b[43m,\u001b[49m\u001b[43m \u001b[49m\u001b[43margs\u001b[49m\u001b[43m,\u001b[49m\u001b[43m \u001b[49m\u001b[43mkwargs\u001b[49m\u001b[43m,\u001b[49m\u001b[43m \u001b[49m\u001b[38;5;241;43m*\u001b[39;49m\u001b[43m_args\u001b[49m\u001b[43m,\u001b[49m\u001b[43m \u001b[49m\u001b[38;5;241;43m*\u001b[39;49m\u001b[38;5;241;43m*\u001b[39;49m\u001b[43m_kwargs\u001b[49m\u001b[43m)\u001b[49m\n\u001b[1;32m    312\u001b[0m \u001b[38;5;28;01massert\u001b[39;00m \u001b[38;5;124m\"\u001b[39m\u001b[38;5;124m_ray_trace_ctx\u001b[39m\u001b[38;5;124m\"\u001b[39m \u001b[38;5;129;01mnot\u001b[39;00m \u001b[38;5;129;01min\u001b[39;00m kwargs\n\u001b[1;32m    313\u001b[0m tracer \u001b[38;5;241m=\u001b[39m _opentelemetry\u001b[38;5;241m.\u001b[39mtrace\u001b[38;5;241m.\u001b[39mget_tracer(\u001b[38;5;18m__name__\u001b[39m)\n",
      "File \u001b[0;32m/usr/local/lib/python3.10/site-packages/ray/remote_function.py:460\u001b[0m, in \u001b[0;36mRemoteFunction._remote\u001b[0;34m(self, args, kwargs, **task_options)\u001b[0m\n\u001b[1;32m    457\u001b[0m \u001b[38;5;28;01mif\u001b[39;00m \u001b[38;5;28mself\u001b[39m\u001b[38;5;241m.\u001b[39m_decorator \u001b[38;5;129;01mis\u001b[39;00m \u001b[38;5;129;01mnot\u001b[39;00m \u001b[38;5;28;01mNone\u001b[39;00m:\n\u001b[1;32m    458\u001b[0m     invocation \u001b[38;5;241m=\u001b[39m \u001b[38;5;28mself\u001b[39m\u001b[38;5;241m.\u001b[39m_decorator(invocation)\n\u001b[0;32m--> 460\u001b[0m \u001b[38;5;28;01mreturn\u001b[39;00m \u001b[43minvocation\u001b[49m\u001b[43m(\u001b[49m\u001b[43margs\u001b[49m\u001b[43m,\u001b[49m\u001b[43m \u001b[49m\u001b[43mkwargs\u001b[49m\u001b[43m)\u001b[49m\n",
      "File \u001b[0;32m/usr/local/lib/python3.10/site-packages/ray/remote_function.py:428\u001b[0m, in \u001b[0;36mRemoteFunction._remote.<locals>.invocation\u001b[0;34m(args, kwargs)\u001b[0m\n\u001b[1;32m    424\u001b[0m \u001b[38;5;28;01mif\u001b[39;00m worker\u001b[38;5;241m.\u001b[39mmode \u001b[38;5;241m==\u001b[39m ray\u001b[38;5;241m.\u001b[39m_private\u001b[38;5;241m.\u001b[39mworker\u001b[38;5;241m.\u001b[39mLOCAL_MODE:\n\u001b[1;32m    425\u001b[0m     \u001b[38;5;28;01massert\u001b[39;00m (\n\u001b[1;32m    426\u001b[0m         \u001b[38;5;129;01mnot\u001b[39;00m \u001b[38;5;28mself\u001b[39m\u001b[38;5;241m.\u001b[39m_is_cross_language\n\u001b[1;32m    427\u001b[0m     ), \u001b[38;5;124m\"\u001b[39m\u001b[38;5;124mCross language remote function cannot be executed locally.\u001b[39m\u001b[38;5;124m\"\u001b[39m\n\u001b[0;32m--> 428\u001b[0m object_refs \u001b[38;5;241m=\u001b[39m \u001b[43mworker\u001b[49m\u001b[38;5;241;43m.\u001b[39;49m\u001b[43mcore_worker\u001b[49m\u001b[38;5;241;43m.\u001b[39;49m\u001b[43msubmit_task\u001b[49m\u001b[43m(\u001b[49m\n\u001b[1;32m    429\u001b[0m \u001b[43m    \u001b[49m\u001b[38;5;28;43mself\u001b[39;49m\u001b[38;5;241;43m.\u001b[39;49m\u001b[43m_language\u001b[49m\u001b[43m,\u001b[49m\n\u001b[1;32m    430\u001b[0m \u001b[43m    \u001b[49m\u001b[38;5;28;43mself\u001b[39;49m\u001b[38;5;241;43m.\u001b[39;49m\u001b[43m_function_descriptor\u001b[49m\u001b[43m,\u001b[49m\n\u001b[1;32m    431\u001b[0m \u001b[43m    \u001b[49m\u001b[43mlist_args\u001b[49m\u001b[43m,\u001b[49m\n\u001b[1;32m    432\u001b[0m \u001b[43m    \u001b[49m\u001b[43mname\u001b[49m\u001b[43m \u001b[49m\u001b[38;5;28;43;01mif\u001b[39;49;00m\u001b[43m \u001b[49m\u001b[43mname\u001b[49m\u001b[43m \u001b[49m\u001b[38;5;129;43;01mis\u001b[39;49;00m\u001b[43m \u001b[49m\u001b[38;5;129;43;01mnot\u001b[39;49;00m\u001b[43m \u001b[49m\u001b[38;5;28;43;01mNone\u001b[39;49;00m\u001b[43m \u001b[49m\u001b[38;5;28;43;01melse\u001b[39;49;00m\u001b[43m \u001b[49m\u001b[38;5;124;43m\"\u001b[39;49m\u001b[38;5;124;43m\"\u001b[39;49m\u001b[43m,\u001b[49m\n\u001b[1;32m    433\u001b[0m \u001b[43m    \u001b[49m\u001b[43mnum_returns\u001b[49m\u001b[43m,\u001b[49m\n\u001b[1;32m    434\u001b[0m \u001b[43m    \u001b[49m\u001b[43mresources\u001b[49m\u001b[43m,\u001b[49m\n\u001b[1;32m    435\u001b[0m \u001b[43m    \u001b[49m\u001b[43mmax_retries\u001b[49m\u001b[43m,\u001b[49m\n\u001b[1;32m    436\u001b[0m \u001b[43m    \u001b[49m\u001b[43mretry_exceptions\u001b[49m\u001b[43m,\u001b[49m\n\u001b[1;32m    437\u001b[0m \u001b[43m    \u001b[49m\u001b[43mretry_exception_allowlist\u001b[49m\u001b[43m,\u001b[49m\n\u001b[1;32m    438\u001b[0m \u001b[43m    \u001b[49m\u001b[43mscheduling_strategy\u001b[49m\u001b[43m,\u001b[49m\n\u001b[1;32m    439\u001b[0m \u001b[43m    \u001b[49m\u001b[43mworker\u001b[49m\u001b[38;5;241;43m.\u001b[39;49m\u001b[43mdebugger_breakpoint\u001b[49m\u001b[43m,\u001b[49m\n\u001b[1;32m    440\u001b[0m \u001b[43m    \u001b[49m\u001b[43mserialized_runtime_env_info\u001b[49m\u001b[43m \u001b[49m\u001b[38;5;129;43;01mor\u001b[39;49;00m\u001b[43m \u001b[49m\u001b[38;5;124;43m\"\u001b[39;49m\u001b[38;5;132;43;01m{}\u001b[39;49;00m\u001b[38;5;124;43m\"\u001b[39;49m\u001b[43m,\u001b[49m\n\u001b[1;32m    441\u001b[0m \u001b[43m    \u001b[49m\u001b[43mgenerator_backpressure_num_objects\u001b[49m\u001b[43m,\u001b[49m\n\u001b[1;32m    442\u001b[0m \u001b[43m\u001b[49m\u001b[43m)\u001b[49m\n\u001b[1;32m    443\u001b[0m \u001b[38;5;66;03m# Reset worker's debug context from the last \"remote\" command\u001b[39;00m\n\u001b[1;32m    444\u001b[0m \u001b[38;5;66;03m# (which applies only to this .remote call).\u001b[39;00m\n\u001b[1;32m    445\u001b[0m worker\u001b[38;5;241m.\u001b[39mdebugger_breakpoint \u001b[38;5;241m=\u001b[39m \u001b[38;5;124mb\u001b[39m\u001b[38;5;124m\"\u001b[39m\u001b[38;5;124m\"\u001b[39m\n",
      "File \u001b[0;32mpython/ray/_raylet.pyx:3778\u001b[0m, in \u001b[0;36mray._raylet.CoreWorker.submit_task\u001b[0;34m()\u001b[0m\n",
      "File \u001b[0;32mpython/ray/_raylet.pyx:3782\u001b[0m, in \u001b[0;36mray._raylet.CoreWorker.submit_task\u001b[0;34m()\u001b[0m\n",
      "File \u001b[0;32mpython/ray/_raylet.pyx:855\u001b[0m, in \u001b[0;36mray._raylet.prepare_args_and_increment_put_refs\u001b[0;34m()\u001b[0m\n",
      "File \u001b[0;32mpython/ray/_raylet.pyx:902\u001b[0m, in \u001b[0;36mray._raylet.prepare_args_internal\u001b[0;34m()\u001b[0m\n",
      "File \u001b[0;32m/usr/local/lib/python3.10/site-packages/ray/_private/serialization.py:494\u001b[0m, in \u001b[0;36mSerializationContext.serialize\u001b[0;34m(self, value)\u001b[0m\n\u001b[1;32m    492\u001b[0m     \u001b[38;5;28;01mreturn\u001b[39;00m RawSerializedObject(value)\n\u001b[1;32m    493\u001b[0m \u001b[38;5;28;01melse\u001b[39;00m:\n\u001b[0;32m--> 494\u001b[0m     \u001b[38;5;28;01mreturn\u001b[39;00m \u001b[38;5;28;43mself\u001b[39;49m\u001b[38;5;241;43m.\u001b[39;49m\u001b[43m_serialize_to_msgpack\u001b[49m\u001b[43m(\u001b[49m\u001b[43mvalue\u001b[49m\u001b[43m)\u001b[49m\n",
      "File \u001b[0;32m/usr/local/lib/python3.10/site-packages/ray/_private/serialization.py:472\u001b[0m, in \u001b[0;36mSerializationContext._serialize_to_msgpack\u001b[0;34m(self, value)\u001b[0m\n\u001b[1;32m    470\u001b[0m \u001b[38;5;28;01mif\u001b[39;00m python_objects:\n\u001b[1;32m    471\u001b[0m     metadata \u001b[38;5;241m=\u001b[39m ray_constants\u001b[38;5;241m.\u001b[39mOBJECT_METADATA_TYPE_PYTHON\n\u001b[0;32m--> 472\u001b[0m     pickle5_serialized_object \u001b[38;5;241m=\u001b[39m \u001b[38;5;28;43mself\u001b[39;49m\u001b[38;5;241;43m.\u001b[39;49m\u001b[43m_serialize_to_pickle5\u001b[49m\u001b[43m(\u001b[49m\n\u001b[1;32m    473\u001b[0m \u001b[43m        \u001b[49m\u001b[43mmetadata\u001b[49m\u001b[43m,\u001b[49m\u001b[43m \u001b[49m\u001b[43mpython_objects\u001b[49m\n\u001b[1;32m    474\u001b[0m \u001b[43m    \u001b[49m\u001b[43m)\u001b[49m\n\u001b[1;32m    475\u001b[0m \u001b[38;5;28;01melse\u001b[39;00m:\n\u001b[1;32m    476\u001b[0m     pickle5_serialized_object \u001b[38;5;241m=\u001b[39m \u001b[38;5;28;01mNone\u001b[39;00m\n",
      "File \u001b[0;32m/usr/local/lib/python3.10/site-packages/ray/_private/serialization.py:420\u001b[0m, in \u001b[0;36mSerializationContext._serialize_to_pickle5\u001b[0;34m(self, metadata, value)\u001b[0m\n\u001b[1;32m    418\u001b[0m \u001b[38;5;28;01mtry\u001b[39;00m:\n\u001b[1;32m    419\u001b[0m     \u001b[38;5;28mself\u001b[39m\u001b[38;5;241m.\u001b[39mset_in_band_serialization()\n\u001b[0;32m--> 420\u001b[0m     inband \u001b[38;5;241m=\u001b[39m \u001b[43mpickle\u001b[49m\u001b[38;5;241;43m.\u001b[39;49m\u001b[43mdumps\u001b[49m\u001b[43m(\u001b[49m\n\u001b[1;32m    421\u001b[0m \u001b[43m        \u001b[49m\u001b[43mvalue\u001b[49m\u001b[43m,\u001b[49m\u001b[43m \u001b[49m\u001b[43mprotocol\u001b[49m\u001b[38;5;241;43m=\u001b[39;49m\u001b[38;5;241;43m5\u001b[39;49m\u001b[43m,\u001b[49m\u001b[43m \u001b[49m\u001b[43mbuffer_callback\u001b[49m\u001b[38;5;241;43m=\u001b[39;49m\u001b[43mwriter\u001b[49m\u001b[38;5;241;43m.\u001b[39;49m\u001b[43mbuffer_callback\u001b[49m\n\u001b[1;32m    422\u001b[0m \u001b[43m    \u001b[49m\u001b[43m)\u001b[49m\n\u001b[1;32m    423\u001b[0m \u001b[38;5;28;01mexcept\u001b[39;00m \u001b[38;5;167;01mException\u001b[39;00m \u001b[38;5;28;01mas\u001b[39;00m e:\n\u001b[1;32m    424\u001b[0m     \u001b[38;5;28mself\u001b[39m\u001b[38;5;241m.\u001b[39mget_and_clear_contained_object_refs()\n",
      "File \u001b[0;32m/usr/local/lib/python3.10/site-packages/ray/cloudpickle/cloudpickle_fast.py:88\u001b[0m, in \u001b[0;36mdumps\u001b[0;34m(obj, protocol, buffer_callback)\u001b[0m\n\u001b[1;32m     86\u001b[0m \u001b[38;5;28;01mwith\u001b[39;00m io\u001b[38;5;241m.\u001b[39mBytesIO() \u001b[38;5;28;01mas\u001b[39;00m file:\n\u001b[1;32m     87\u001b[0m     cp \u001b[38;5;241m=\u001b[39m CloudPickler(file, protocol\u001b[38;5;241m=\u001b[39mprotocol, buffer_callback\u001b[38;5;241m=\u001b[39mbuffer_callback)\n\u001b[0;32m---> 88\u001b[0m     \u001b[43mcp\u001b[49m\u001b[38;5;241;43m.\u001b[39;49m\u001b[43mdump\u001b[49m\u001b[43m(\u001b[49m\u001b[43mobj\u001b[49m\u001b[43m)\u001b[49m\n\u001b[1;32m     89\u001b[0m     \u001b[38;5;28;01mreturn\u001b[39;00m file\u001b[38;5;241m.\u001b[39mgetvalue()\n",
      "File \u001b[0;32m/usr/local/lib/python3.10/site-packages/ray/cloudpickle/cloudpickle_fast.py:733\u001b[0m, in \u001b[0;36mCloudPickler.dump\u001b[0;34m(self, obj)\u001b[0m\n\u001b[1;32m    731\u001b[0m \u001b[38;5;28;01mdef\u001b[39;00m \u001b[38;5;21mdump\u001b[39m(\u001b[38;5;28mself\u001b[39m, obj):\n\u001b[1;32m    732\u001b[0m     \u001b[38;5;28;01mtry\u001b[39;00m:\n\u001b[0;32m--> 733\u001b[0m         \u001b[38;5;28;01mreturn\u001b[39;00m \u001b[43mPickler\u001b[49m\u001b[38;5;241;43m.\u001b[39;49m\u001b[43mdump\u001b[49m\u001b[43m(\u001b[49m\u001b[38;5;28;43mself\u001b[39;49m\u001b[43m,\u001b[49m\u001b[43m \u001b[49m\u001b[43mobj\u001b[49m\u001b[43m)\u001b[49m\n\u001b[1;32m    734\u001b[0m     \u001b[38;5;28;01mexcept\u001b[39;00m \u001b[38;5;167;01mRuntimeError\u001b[39;00m \u001b[38;5;28;01mas\u001b[39;00m e:\n\u001b[1;32m    735\u001b[0m         \u001b[38;5;28;01mif\u001b[39;00m \u001b[38;5;124m\"\u001b[39m\u001b[38;5;124mrecursion\u001b[39m\u001b[38;5;124m\"\u001b[39m \u001b[38;5;129;01min\u001b[39;00m e\u001b[38;5;241m.\u001b[39margs[\u001b[38;5;241m0\u001b[39m]:\n",
      "File \u001b[0;32m/usr/local/lib/python3.10/site-packages/ray/cloudpickle/cloudpickle_fast.py:842\u001b[0m, in \u001b[0;36mCloudPickler.reducer_override\u001b[0;34m(self, obj)\u001b[0m\n\u001b[1;32m    840\u001b[0m     \u001b[38;5;28;01mreturn\u001b[39;00m _class_reduce(obj)\n\u001b[1;32m    841\u001b[0m \u001b[38;5;28;01melif\u001b[39;00m \u001b[38;5;28misinstance\u001b[39m(obj, types\u001b[38;5;241m.\u001b[39mFunctionType):\n\u001b[0;32m--> 842\u001b[0m     \u001b[38;5;28;01mreturn\u001b[39;00m \u001b[38;5;28;43mself\u001b[39;49m\u001b[38;5;241;43m.\u001b[39;49m\u001b[43m_function_reduce\u001b[49m\u001b[43m(\u001b[49m\u001b[43mobj\u001b[49m\u001b[43m)\u001b[49m\n\u001b[1;32m    843\u001b[0m \u001b[38;5;28;01melse\u001b[39;00m:\n\u001b[1;32m    844\u001b[0m     \u001b[38;5;66;03m# fallback to save_global, including the Pickler's\u001b[39;00m\n\u001b[1;32m    845\u001b[0m     \u001b[38;5;66;03m# dispatch_table\u001b[39;00m\n\u001b[1;32m    846\u001b[0m     \u001b[38;5;28;01mreturn\u001b[39;00m \u001b[38;5;28mNotImplemented\u001b[39m\n",
      "File \u001b[0;32m/usr/local/lib/python3.10/site-packages/ray/cloudpickle/cloudpickle_fast.py:697\u001b[0m, in \u001b[0;36mCloudPickler._function_reduce\u001b[0;34m(self, obj)\u001b[0m\n\u001b[1;32m    695\u001b[0m     \u001b[38;5;28;01mreturn\u001b[39;00m \u001b[38;5;28mNotImplemented\u001b[39m\n\u001b[1;32m    696\u001b[0m \u001b[38;5;28;01melse\u001b[39;00m:\n\u001b[0;32m--> 697\u001b[0m     \u001b[38;5;28;01mreturn\u001b[39;00m \u001b[38;5;28;43mself\u001b[39;49m\u001b[38;5;241;43m.\u001b[39;49m\u001b[43m_dynamic_function_reduce\u001b[49m\u001b[43m(\u001b[49m\u001b[43mobj\u001b[49m\u001b[43m)\u001b[49m\n",
      "File \u001b[0;32m/usr/local/lib/python3.10/site-packages/ray/cloudpickle/cloudpickle_fast.py:679\u001b[0m, in \u001b[0;36mCloudPickler._dynamic_function_reduce\u001b[0;34m(self, func)\u001b[0m\n\u001b[1;32m    677\u001b[0m \u001b[38;5;250m\u001b[39m\u001b[38;5;124;03m\"\"\"Reduce a function that is not pickleable via attribute lookup.\"\"\"\u001b[39;00m\n\u001b[1;32m    678\u001b[0m newargs \u001b[38;5;241m=\u001b[39m \u001b[38;5;28mself\u001b[39m\u001b[38;5;241m.\u001b[39m_function_getnewargs(func)\n\u001b[0;32m--> 679\u001b[0m state \u001b[38;5;241m=\u001b[39m \u001b[43m_function_getstate\u001b[49m\u001b[43m(\u001b[49m\u001b[43mfunc\u001b[49m\u001b[43m)\u001b[49m\n\u001b[1;32m    680\u001b[0m \u001b[38;5;28;01mreturn\u001b[39;00m (_make_function, newargs, state, \u001b[38;5;28;01mNone\u001b[39;00m, \u001b[38;5;28;01mNone\u001b[39;00m, _function_setstate)\n",
      "File \u001b[0;32m/usr/local/lib/python3.10/site-packages/ray/cloudpickle/cloudpickle_fast.py:199\u001b[0m, in \u001b[0;36m_function_getstate\u001b[0;34m(func)\u001b[0m\n\u001b[1;32m    189\u001b[0m closure_values \u001b[38;5;241m=\u001b[39m (\n\u001b[1;32m    190\u001b[0m     \u001b[38;5;28mlist\u001b[39m(\u001b[38;5;28mmap\u001b[39m(_get_cell_contents, func\u001b[38;5;241m.\u001b[39m\u001b[38;5;18m__closure__\u001b[39m))\n\u001b[1;32m    191\u001b[0m     \u001b[38;5;28;01mif\u001b[39;00m func\u001b[38;5;241m.\u001b[39m\u001b[38;5;18m__closure__\u001b[39m \u001b[38;5;129;01mis\u001b[39;00m \u001b[38;5;129;01mnot\u001b[39;00m \u001b[38;5;28;01mNone\u001b[39;00m\n\u001b[1;32m    192\u001b[0m     \u001b[38;5;28;01melse\u001b[39;00m ()\n\u001b[1;32m    193\u001b[0m )\n\u001b[1;32m    195\u001b[0m \u001b[38;5;66;03m# Extract currently-imported submodules used by func. Storing these modules\u001b[39;00m\n\u001b[1;32m    196\u001b[0m \u001b[38;5;66;03m# in a smoke _cloudpickle_subimports attribute of the object's state will\u001b[39;00m\n\u001b[1;32m    197\u001b[0m \u001b[38;5;66;03m# trigger the side effect of importing these modules at unpickling time\u001b[39;00m\n\u001b[1;32m    198\u001b[0m \u001b[38;5;66;03m# (which is necessary for func to work correctly once depickled)\u001b[39;00m\n\u001b[0;32m--> 199\u001b[0m slotstate[\u001b[38;5;124m\"\u001b[39m\u001b[38;5;124m_cloudpickle_submodules\u001b[39m\u001b[38;5;124m\"\u001b[39m] \u001b[38;5;241m=\u001b[39m \u001b[43m_find_imported_submodules\u001b[49m\u001b[43m(\u001b[49m\n\u001b[1;32m    200\u001b[0m \u001b[43m    \u001b[49m\u001b[43mfunc\u001b[49m\u001b[38;5;241;43m.\u001b[39;49m\u001b[38;5;18;43m__code__\u001b[39;49m\u001b[43m,\u001b[49m\u001b[43m \u001b[49m\u001b[43mitertools\u001b[49m\u001b[38;5;241;43m.\u001b[39;49m\u001b[43mchain\u001b[49m\u001b[43m(\u001b[49m\u001b[43mf_globals\u001b[49m\u001b[38;5;241;43m.\u001b[39;49m\u001b[43mvalues\u001b[49m\u001b[43m(\u001b[49m\u001b[43m)\u001b[49m\u001b[43m,\u001b[49m\u001b[43m \u001b[49m\u001b[43mclosure_values\u001b[49m\u001b[43m)\u001b[49m\n\u001b[1;32m    201\u001b[0m \u001b[43m\u001b[49m\u001b[43m)\u001b[49m\n\u001b[1;32m    202\u001b[0m slotstate[\u001b[38;5;124m\"\u001b[39m\u001b[38;5;124m__globals__\u001b[39m\u001b[38;5;124m\"\u001b[39m] \u001b[38;5;241m=\u001b[39m f_globals\n\u001b[1;32m    204\u001b[0m state \u001b[38;5;241m=\u001b[39m func\u001b[38;5;241m.\u001b[39m\u001b[38;5;18m__dict__\u001b[39m\n",
      "File \u001b[0;32m/usr/local/lib/python3.10/site-packages/ray/cloudpickle/cloudpickle.py:388\u001b[0m, in \u001b[0;36m_find_imported_submodules\u001b[0;34m(code, top_level_dependencies)\u001b[0m\n\u001b[1;32m    383\u001b[0m \u001b[38;5;66;03m# A concurrent thread could mutate sys.modules,\u001b[39;00m\n\u001b[1;32m    384\u001b[0m \u001b[38;5;66;03m# make sure we iterate over a copy to avoid exceptions\u001b[39;00m\n\u001b[1;32m    385\u001b[0m \u001b[38;5;28;01mfor\u001b[39;00m name \u001b[38;5;129;01min\u001b[39;00m \u001b[38;5;28mlist\u001b[39m(sys\u001b[38;5;241m.\u001b[39mmodules):\n\u001b[1;32m    386\u001b[0m     \u001b[38;5;66;03m# Older versions of pytest will add a \"None\" module to\u001b[39;00m\n\u001b[1;32m    387\u001b[0m     \u001b[38;5;66;03m# sys.modules.\u001b[39;00m\n\u001b[0;32m--> 388\u001b[0m     \u001b[38;5;28;01mif\u001b[39;00m name \u001b[38;5;129;01mis\u001b[39;00m \u001b[38;5;129;01mnot\u001b[39;00m \u001b[38;5;28;01mNone\u001b[39;00m \u001b[38;5;129;01mand\u001b[39;00m \u001b[43mname\u001b[49m\u001b[38;5;241;43m.\u001b[39;49m\u001b[43mstartswith\u001b[49m\u001b[43m(\u001b[49m\u001b[43mprefix\u001b[49m\u001b[43m)\u001b[49m:\n\u001b[1;32m    389\u001b[0m         \u001b[38;5;66;03m# check whether the function can address the sub-module\u001b[39;00m\n\u001b[1;32m    390\u001b[0m         tokens \u001b[38;5;241m=\u001b[39m \u001b[38;5;28mset\u001b[39m(name[\u001b[38;5;28mlen\u001b[39m(prefix) :]\u001b[38;5;241m.\u001b[39msplit(\u001b[38;5;124m\"\u001b[39m\u001b[38;5;124m.\u001b[39m\u001b[38;5;124m\"\u001b[39m))\n\u001b[1;32m    391\u001b[0m         \u001b[38;5;28;01mif\u001b[39;00m \u001b[38;5;129;01mnot\u001b[39;00m tokens \u001b[38;5;241m-\u001b[39m \u001b[38;5;28mset\u001b[39m(code\u001b[38;5;241m.\u001b[39mco_names):\n",
      "\u001b[0;31mKeyboardInterrupt\u001b[0m: "
     ]
    }
   ],
   "source": [
    "EPOCHS = 10\n",
    "BATCH_SIZE = 256\n",
    "history = fed_model.fit(\n",
    "    fed_train_x ,\n",
    "    fed_train_y,\n",
    "    validation_data=(fed_val_x, fed_val_y),\n",
    "    epochs=EPOCHS,\n",
    "    batch_size=BATCH_SIZE,\n",
    "    aggregate_freq=1,\n",
    "    verbose=1,\n",
    "    \n",
    ")\n"
   ]
  },
  {
   "cell_type": "code",
   "execution_count": null,
   "id": "1a9406ca-7347-4282-8f15-0617a889df9d",
   "metadata": {
    "execution": {
     "parties": "[\"alice\"]",
     "shell.execute_reply.end": "2024-08-30T06:15:48.382829Z",
     "shell.execute_reply.started": "2024-08-30T06:15:48.382815Z",
     "to_execute": "2024-08-30T06:14:44.531Z"
    },
    "libroFormatter": "formatter-string"
   },
   "outputs": [],
   "source": []
  },
  {
   "cell_type": "code",
   "execution_count": null,
   "id": "f558945e-9248-4cc3-9540-8c96f767fe46",
   "metadata": {
    "execution": {
     "parties": "[\"alice\"]",
     "shell.execute_reply.end": "2024-08-30T06:15:48.384469Z",
     "shell.execute_reply.started": "2024-08-30T06:15:48.384453Z",
     "to_execute": "2024-08-30T06:14:44.532Z"
    },
    "libroFormatter": "formatter-string"
   },
   "outputs": [],
   "source": [
    "\n",
    "\n",
    "early_stop = tf.keras.callbacks.EarlyStopping(monitor=\"val_accuracy\", patience=10, restore_best_weights=True)\n",
    "\n",
    "model.fit(X_train, y_train,\n",
    "              validation_data = (X_val, y_val),\n",
    "              shuffle = True,\n",
    "              batch_size = BATCH_SIZE,\n",
    "              epochs = EPOCHS,\n",
    "              callbacks = [early_stop], \n",
    ")\n"
   ]
  },
  {
   "cell_type": "code",
   "execution_count": null,
   "id": "543330c9-6646-4c27-88b4-8cb3c7dc1786",
   "metadata": {
    "execution": {
     "parties": "[\"alice\"]",
     "shell.execute_reply.end": "2024-08-30T06:15:48.386534Z",
     "shell.execute_reply.started": "2024-08-30T06:15:48.386520Z",
     "to_execute": "2024-08-30T06:14:44.533Z"
    },
    "libroFormatter": "formatter-string"
   },
   "outputs": [],
   "source": [
    "model.summary()"
   ]
  },
  {
   "cell_type": "code",
   "execution_count": null,
   "id": "7c4c64b6-e651-40b6-9d09-85c5db881da1",
   "metadata": {
    "execution": {
     "parties": "[\"alice\"]",
     "shell.execute_reply.end": "2024-08-30T06:15:48.389823Z",
     "shell.execute_reply.started": "2024-08-30T06:15:48.389807Z",
     "to_execute": "2024-08-30T06:14:44.533Z"
    },
    "libroFormatter": "formatter-string"
   },
   "outputs": [],
   "source": [
    "from sklearn.metrics import confusion_matrix, classification_report, precision_recall_curve\n",
    "score = model.evaluate(X_test, y_test, verbose=0)  \n",
    "y_pred_prob_1 = model.predict(X_test)\n",
    "y_pred_1 = y_pred_prob_1.round()\n",
    "print(classification_report(y_test, y_pred_1, target_names = ['No','Yes']))"
   ]
  }
 ],
 "metadata": {},
 "nbformat": 4,
 "nbformat_minor": 5
}
